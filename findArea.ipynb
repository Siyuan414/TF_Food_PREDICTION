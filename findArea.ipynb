{
 "cells": [
  {
   "cell_type": "code",
   "execution_count": 22,
   "metadata": {},
   "outputs": [],
   "source": [
    "import tensorflow as tf\n",
    "from tensorflow.keras.preprocessing import image\n",
    "import matplotlib.pyplot as plt\n",
    "import numpy as np\n",
    "import os\n",
    "from tensorflow.keras.models import load_model\n",
    "import cv2\n",
    "from PIL import Image, ImageDraw, ImageFont"
   ]
  },
  {
   "cell_type": "code",
   "execution_count": 32,
   "metadata": {},
   "outputs": [],
   "source": [
    "def predict(img,food_list,model):\n",
    "    img = cv2.resize(img,(299,299))\n",
    "    img = image.img_to_array(img)\n",
    "    img = np.expand_dims(img,axis=0)\n",
    "    img /= 255.\n",
    "    pred = model.predict(img)\n",
    "    index = np.argmax(pred)\n",
    "    predict_class = food_list[index][:-1]\n",
    "    # font \n",
    "    font = cv2.FONT_HERSHEY_SIMPLEX \n",
    "    \n",
    "    # org \n",
    "    org = (50, 50) \n",
    "    \n",
    "    # fontScale \n",
    "    fontScale = 1\n",
    "    \n",
    "    # Blue color in BGR \n",
    "    color = (255, 0, 0) \n",
    "    \n",
    "    # Line thickness of 2 px S\n",
    "    thickness = 2\n",
    "    \n",
    "    cv2.putText(img[0], predict_class, org, font,  \n",
    "                   fontScale, color, thickness, cv2.LINE_AA) \n",
    "    \n",
    "    cv2.imshow(\"image\",img[0])\n",
    "    cv2.waitKey(0)\n",
    "    cv2.destroyAllWindows()\n",
    "    \n",
    "    "
   ]
  },
  {
   "cell_type": "code",
   "execution_count": 15,
   "metadata": {},
   "outputs": [],
   "source": [
    "def generate_food_list():\n",
    "    food_list = []\n",
    "    with open('food-101/meta/labels.txt','r') as f:\n",
    "        lines = f.readlines()\n",
    "        for line in lines:\n",
    "            food_list.append(line)\n",
    "    return food_list"
   ]
  },
  {
   "cell_type": "code",
   "execution_count": 16,
   "metadata": {},
   "outputs": [],
   "source": [
    "def transfer_model_to_tflite(model):\n",
    "    converter = tf.lite.TFLiteConverter.from_keras_model(model)\n",
    "    tflite_model = converter.convert()\n",
    "    with open(\"tflite_model.h5\",'wb') as f:\n",
    "        f.write(tflite_model)"
   ]
  },
  {
   "cell_type": "code",
   "execution_count": 33,
   "metadata": {},
   "outputs": [
    {
     "name": "stdout",
     "output_type": "stream",
     "text": [
      "1/1 [==============================] - 0s 430ms/step\n"
     ]
    }
   ],
   "source": [
    "\n",
    "food_list = generate_food_list()\n",
    "\n",
    "model = load_model(\"fineTune_model.h5\")\n",
    "img = cv2.imread(\"hamburger.jpg\")\n",
    "predict(img,food_list,model)"
   ]
  },
  {
   "cell_type": "code",
   "execution_count": null,
   "metadata": {},
   "outputs": [],
   "source": []
  },
  {
   "cell_type": "code",
   "execution_count": null,
   "metadata": {},
   "outputs": [],
   "source": []
  }
 ],
 "metadata": {
  "kernelspec": {
   "display_name": "py310",
   "language": "python",
   "name": "python3"
  },
  "language_info": {
   "codemirror_mode": {
    "name": "ipython",
    "version": 3
   },
   "file_extension": ".py",
   "mimetype": "text/x-python",
   "name": "python",
   "nbconvert_exporter": "python",
   "pygments_lexer": "ipython3",
   "version": "3.10.14"
  }
 },
 "nbformat": 4,
 "nbformat_minor": 2
}
